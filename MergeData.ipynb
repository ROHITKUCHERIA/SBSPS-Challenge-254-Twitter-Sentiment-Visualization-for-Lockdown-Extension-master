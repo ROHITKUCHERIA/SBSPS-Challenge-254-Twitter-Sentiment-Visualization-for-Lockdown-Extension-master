{
 "cells": [
  {
   "cell_type": "code",
   "execution_count": null,
   "metadata": {},
   "outputs": [],
   "source": [
    "import os\n",
    "import glob\n",
    "import pandas as pd\n",
    "os.chdir(r\"C:/Users/ankit/Downloads/TWEET DATA/NEW DATA/\")\n",
    "extension = 'csv'\n",
    "all_filenames = [i for i in glob.glob('*.{}'.format(extension))]\n",
    "print(all_filenames)\n",
    "x=[]\n",
    "y=[]\n",
    "count=1\n",
    "d=0\n",
    "for i in all_filenames:\n",
    "    p=pd.read_csv(i,header=None)\n",
    "    p=p[0]\n",
    "    d+=1\n",
    "    print(p.tolist()[:100])    \n",
    "    for j in p.tolist():\n",
    "        x.append(int(j))\n",
    "        #y.append(count)\n",
    "        count+=1\n",
    "data_f=pd.DataFrame(list(zip(x)))\n",
    "print(data_f)\n",
    "data_f[0].to_csv('final.txt',index=None,header=None)\n",
    "for i in p['Actual Tweet'].tolist():\n",
    "    print(i['full_text'])\n",
    "from ast import literal_eval\n",
    "x=pd.read_csv('final_cleaned_data.csv',engine=\"python\")#use engine=\"python\" only if there is a error in this line otherwise ignore it\n",
    "x.dropna(inplace=True)\n",
    "x['Actual Tweet']=x['Actual Tweet'].apply(literal_eval)"
   ]
  }
 ],
 "metadata": {
  "kernelspec": {
   "display_name": "Python 3",
   "language": "python",
   "name": "python3"
  },
  "language_info": {
   "codemirror_mode": {
    "name": "ipython",
    "version": 3
   },
   "file_extension": ".py",
   "mimetype": "text/x-python",
   "name": "python",
   "nbconvert_exporter": "python",
   "pygments_lexer": "ipython3",
   "version": "3.6.5"
  }
 },
 "nbformat": 4,
 "nbformat_minor": 2
}
